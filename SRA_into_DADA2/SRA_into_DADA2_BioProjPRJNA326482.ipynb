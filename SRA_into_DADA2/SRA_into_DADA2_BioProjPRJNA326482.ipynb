{
 "cells": [
  {
   "cell_type": "markdown",
   "metadata": {},
   "source": [
    "# Importing SRA files from Cariaco Project"
   ]
  },
  {
   "cell_type": "markdown",
   "metadata": {},
   "source": [
    "To rerun classification using dada2 in R\n",
    "(based on convo with Sarah Hu- using PR2 in QIIME actually leads to a lot of unanotated sequences because they get trimmed from the reference tree when trimming with primers. Use dada2 in R instead)\n",
    "\n",
    "[BioProject# PRJNA326482](https://www.ncbi.nlm.nih.gov/bioproject/PRJNA326482).\n",
    "\n",
    "Downloaded SraRunTable. Copied Sra numbers into `SraAccList.txt`"
   ]
  },
  {
   "cell_type": "code",
   "execution_count": 3,
   "metadata": {},
   "outputs": [
    {
     "name": "stdout",
     "output_type": "stream",
     "text": [
      "SRR3735204 SRR3735205 SRR3735206 SRR3735207 SRR3735208 SRR3735209 SRR3735210 SRR3735211 SRR3735213 SRR3735214 SRR3735215 SRR3735216 SRR3735217 SRR3735218 SRR3735219 SRR3735220 SRR3735221 SRR3735223 SRR3735224 SRR3735225 SRR3735226 SRR3735227 SRR3735228 SRR3735229 SRR3735230 SRR3735231 SRR3735232 SRR3735234 SRR3735235 SRR3735236 SRR3735237 SRR3735238 SRR3735239 SRR3735240 SRR3735241 SRR3735242 SRR3735243 SRR3735244 SRR3735245 SRR3735246 SRR3735247 SRR3735248 SRR3735249 SRR3735250 SRR3735251 SRR3735252 SRR3735253 SRR3735254 SRR3735256 SRR3735257 SRR3735258 SRR3735259 SRR3735260 SRR3735261 SRR3735262 SRR3735263 SRR3735264 SRR3735265 SRR3735266 SRR3735268 SRR3735269 SRR3735270 SRR3735271 SRR3735272 SRR3735273 SRR3735274 SRR3735275 SRR3735276 SRR3735277 SRR3735278 SRR3735279 SRR3735280 SRR3735281 SRR3735283 SRR3735284 SRR3735285 SRR3735286 SRR3735287 SRR3735288 SRR3735289 SRR3735290 SRR3735292 SRR3735293 SRR3735294 SRR3735295 SRR3735296 SRR3735297 SRR3735298 SRR3735299 SRR3735300 SRR3735301 SRR3735302 SRR3735303 SRR3735304 SRR3735305 SRR3731253 SRR3731254 SRR3731255 SRR3731257 SRR3731258 SRR3731259 SRR3731261 SRR3731262 SRR3731263 SRR3731265 SRR3731266 SRR3731267 SRR3731269 SRR3731270 SRR3731271 SRR3731273 SRR3731274 SRR3731275 SRR3731276 SRR3731277 SRR3731278 SRR3731280 SRR3731281 SRR3731282 SRR3731283 SRR3731285 SRR3731286 SRR3731287 SRR3731289 SRR3731290 SRR3731291 SRR3731293 SRR3731294 SRR3731295 SRR3731297 SRR3731298 SRR3731299 SRR3731300 SRR3731301 SRR3731302 SRR3731303 SRR3731304 SRR3731305 SRR3731306 SRR3731307 SRR3731308 SRR8062317 SRR8062318 SRR8062319 SRR8062320 SRR8062321 SRR8062322 SRR8062323 SRR8062324 SRR8062325 SRR8062326 SRR8062327 SRR8062328 SRR8062329 SRR8062330 SRR8062331 SRR8062332 SRR8062333 SRR8062334 SRR8062335 SRR8062336 SRR8062337 SRR8062338 SRR8062339 SRR8062340 SRR8062341 SRR8062342 SRR8062343 SRR8062344 SRR8062345 SRR8062346 SRR8062347 SRR8062348 SRR8062349 SRR8062350 SRR8062351 SRR8062352 SRR8062353 SRR8062354 SRR8062355 SRR8062584 "
     ]
    }
   ],
   "source": [
    "tr '\\n' ' ' < SRR_Acc_List.txt"
   ]
  },
  {
   "cell_type": "markdown",
   "metadata": {},
   "source": [
    "NOTE: The eukaryotic libraries are SRR3735256 through SRR3735305 only:\n",
    "\n",
    "SRR3735256 SRR3735257 SRR3735258 SRR3735259 SRR3735260 SRR3735261 SRR3735262 SRR3735263 SRR3735264 SRR3735265 SRR3735266 SRR3735268 SRR3735269 SRR3735270 SRR3735271 SRR3735272 SRR3735273 SRR3735274 SRR3735275 SRR3735276 SRR3735277 SRR3735278 SRR3735279 SRR3735280 SRR3735281 SRR3735283 SRR3735284 SRR3735285 SRR3735286 SRR3735287 SRR3735288 SRR3735289 SRR3735290 SRR3735292 SRR3735293 SRR3735294 SRR3735295 SRR3735296 SRR3735297 SRR3735298 SRR3735299 SRR3735300 SRR3735301 SRR3735302 SRR3735303 SRR3735304 SRR3735305"
   ]
  },
  {
   "cell_type": "markdown",
   "metadata": {},
   "source": [
    "Next you can copy and paste the output SRA file names from in order to run `fastq-dump`"
   ]
  },
  {
   "cell_type": "code",
   "execution_count": 8,
   "metadata": {},
   "outputs": [],
   "source": [
    "mkdir raw_data"
   ]
  },
  {
   "cell_type": "code",
   "execution_count": 9,
   "metadata": {},
   "outputs": [],
   "source": [
    "cd raw_data"
   ]
  },
  {
   "cell_type": "code",
   "execution_count": 6,
   "metadata": {},
   "outputs": [
    {
     "name": "stdout",
     "output_type": "stream",
     "text": [
      "/Volumes/MyPassport/CariacoEukPaper_LargeFiles/Raw_sequences/raw_data\n"
     ]
    }
   ],
   "source": [
    "pwd"
   ]
  },
  {
   "cell_type": "code",
   "execution_count": 10,
   "metadata": {},
   "outputs": [
    {
     "name": "stdout",
     "output_type": "stream",
     "text": [
      "Read 1766844 spots for SRR3735256\n",
      "Written 1766844 spots for SRR3735256\n",
      "Read 971668 spots for SRR3735257\n",
      "Written 971668 spots for SRR3735257\n",
      "Read 871192 spots for SRR3735258\n",
      "Written 871192 spots for SRR3735258\n",
      "Read 941748 spots for SRR3735259\n",
      "Written 941748 spots for SRR3735259\n",
      "Read 1305596 spots for SRR3735260\n",
      "Written 1305596 spots for SRR3735260\n",
      "Read 1240526 spots for SRR3735261\n",
      "Written 1240526 spots for SRR3735261\n",
      "Read 1535752 spots for SRR3735262\n",
      "Written 1535752 spots for SRR3735262\n",
      "Read 1656196 spots for SRR3735263\n",
      "Written 1656196 spots for SRR3735263\n",
      "Read 775760 spots for SRR3735264\n",
      "Written 775760 spots for SRR3735264\n",
      "Read 67640 spots for SRR3735265\n",
      "Written 67640 spots for SRR3735265\n",
      "Read 538074 spots for SRR3735266\n",
      "Written 538074 spots for SRR3735266\n",
      "Read 302810 spots for SRR3735268\n",
      "Written 302810 spots for SRR3735268\n",
      "Read 909416 spots for SRR3735269\n",
      "Written 909416 spots for SRR3735269\n",
      "Read 584698 spots for SRR3735270\n",
      "Written 584698 spots for SRR3735270\n",
      "Read 268360 spots for SRR3735271\n",
      "Written 268360 spots for SRR3735271\n",
      "Read 146984 spots for SRR3735272\n",
      "Written 146984 spots for SRR3735272\n",
      "Read 820706 spots for SRR3735273\n",
      "Written 820706 spots for SRR3735273\n",
      "Read 317518 spots for SRR3735274\n",
      "Written 317518 spots for SRR3735274\n",
      "Read 914 spots for SRR3735275\n",
      "Written 914 spots for SRR3735275\n",
      "Read 750474 spots for SRR3735276\n",
      "Written 750474 spots for SRR3735276\n",
      "Read 622400 spots for SRR3735277\n",
      "Written 622400 spots for SRR3735277\n",
      "Read 297476 spots for SRR3735278\n",
      "Written 297476 spots for SRR3735278\n",
      "Read 631208 spots for SRR3735279\n",
      "Written 631208 spots for SRR3735279\n",
      "Read 971580 spots for SRR3735280\n",
      "Written 971580 spots for SRR3735280\n",
      "Read 704186 spots for SRR3735281\n",
      "Written 704186 spots for SRR3735281\n",
      "Read 373586 spots for SRR3735283\n",
      "Written 373586 spots for SRR3735283\n",
      "Read 546626 spots for SRR3735284\n",
      "Written 546626 spots for SRR3735284\n",
      "Read 196450 spots for SRR3735285\n",
      "Written 196450 spots for SRR3735285\n",
      "Read 45612 spots for SRR3735286\n",
      "Written 45612 spots for SRR3735286\n",
      "Read 2482994 spots for SRR3735287\n",
      "Written 2482994 spots for SRR3735287\n",
      "Read 938816 spots for SRR3735288\n",
      "Written 938816 spots for SRR3735288\n",
      "Read 3138 spots for SRR3735289\n",
      "Written 3138 spots for SRR3735289\n",
      "Read 311822 spots for SRR3735290\n",
      "Written 311822 spots for SRR3735290\n",
      "Read 1344828 spots for SRR3735292\n",
      "Written 1344828 spots for SRR3735292\n",
      "Read 1482726 spots for SRR3735293\n",
      "Written 1482726 spots for SRR3735293\n",
      "Read 425730 spots for SRR3735294\n",
      "Written 425730 spots for SRR3735294\n",
      "Read 543216 spots for SRR3735295\n",
      "Written 543216 spots for SRR3735295\n",
      "Read 777754 spots for SRR3735296\n",
      "Written 777754 spots for SRR3735296\n",
      "Read 1718 spots for SRR3735297\n",
      "Written 1718 spots for SRR3735297\n",
      "Read 283226 spots for SRR3735298\n",
      "Written 283226 spots for SRR3735298\n",
      "Read 2748 spots for SRR3735299\n",
      "Written 2748 spots for SRR3735299\n",
      "Read 2024564 spots for SRR3735300\n",
      "Written 2024564 spots for SRR3735300\n",
      "Read 1282120 spots for SRR3735301\n",
      "Written 1282120 spots for SRR3735301\n",
      "Read 1055602 spots for SRR3735302\n",
      "Written 1055602 spots for SRR3735302\n",
      "Read 577786 spots for SRR3735303\n",
      "Written 577786 spots for SRR3735303\n",
      "Read 1398 spots for SRR3735304\n",
      "Written 1398 spots for SRR3735304\n",
      "Read 1290542 spots for SRR3735305\n",
      "Written 1290542 spots for SRR3735305\n",
      "Read 34992728 spots total\n",
      "Written 34992728 spots total\n"
     ]
    }
   ],
   "source": [
    "fastq-dump --split-files SRR3735256 SRR3735257 SRR3735258 SRR3735259 SRR3735260 SRR3735261 SRR3735262 SRR3735263 SRR3735264 SRR3735265 SRR3735266 SRR3735268 SRR3735269 SRR3735270 SRR3735271 SRR3735272 SRR3735273 SRR3735274 SRR3735275 SRR3735276 SRR3735277 SRR3735278 SRR3735279 SRR3735280 SRR3735281 SRR3735283 SRR3735284 SRR3735285 SRR3735286 SRR3735287 SRR3735288 SRR3735289 SRR3735290 SRR3735292 SRR3735293 SRR3735294 SRR3735295 SRR3735296 SRR3735297 SRR3735298 SRR3735299 SRR3735300 SRR3735301 SRR3735302 SRR3735303 SRR3735304 SRR3735305"
   ]
  },
  {
   "cell_type": "code",
   "execution_count": 11,
   "metadata": {},
   "outputs": [
    {
     "name": "stdout",
     "output_type": "stream",
     "text": [
      "SRR3735256_1.fastq\tSRR3735273_1.fastq\tSRR3735290_1.fastq\n",
      "SRR3735256_2.fastq\tSRR3735273_2.fastq\tSRR3735290_2.fastq\n",
      "SRR3735257_1.fastq\tSRR3735274_1.fastq\tSRR3735292_1.fastq\n",
      "SRR3735257_2.fastq\tSRR3735274_2.fastq\tSRR3735292_2.fastq\n",
      "SRR3735258_1.fastq\tSRR3735275_1.fastq\tSRR3735293_1.fastq\n",
      "SRR3735258_2.fastq\tSRR3735275_2.fastq\tSRR3735293_2.fastq\n",
      "SRR3735259_1.fastq\tSRR3735276_1.fastq\tSRR3735294_1.fastq\n",
      "SRR3735259_2.fastq\tSRR3735276_2.fastq\tSRR3735294_2.fastq\n",
      "SRR3735260_1.fastq\tSRR3735277_1.fastq\tSRR3735295_1.fastq\n",
      "SRR3735260_2.fastq\tSRR3735277_2.fastq\tSRR3735295_2.fastq\n",
      "SRR3735261_1.fastq\tSRR3735278_1.fastq\tSRR3735296_1.fastq\n",
      "SRR3735261_2.fastq\tSRR3735278_2.fastq\tSRR3735296_2.fastq\n",
      "SRR3735262_1.fastq\tSRR3735279_1.fastq\tSRR3735297_1.fastq\n",
      "SRR3735262_2.fastq\tSRR3735279_2.fastq\tSRR3735297_2.fastq\n",
      "SRR3735263_1.fastq\tSRR3735280_1.fastq\tSRR3735298_1.fastq\n",
      "SRR3735263_2.fastq\tSRR3735280_2.fastq\tSRR3735298_2.fastq\n",
      "SRR3735264_1.fastq\tSRR3735281_1.fastq\tSRR3735299_1.fastq\n",
      "SRR3735264_2.fastq\tSRR3735281_2.fastq\tSRR3735299_2.fastq\n",
      "SRR3735265_1.fastq\tSRR3735283_1.fastq\tSRR3735300_1.fastq\n",
      "SRR3735265_2.fastq\tSRR3735283_2.fastq\tSRR3735300_2.fastq\n",
      "SRR3735266_1.fastq\tSRR3735284_1.fastq\tSRR3735301_1.fastq\n",
      "SRR3735266_2.fastq\tSRR3735284_2.fastq\tSRR3735301_2.fastq\n",
      "SRR3735268_1.fastq\tSRR3735285_1.fastq\tSRR3735302_1.fastq\n",
      "SRR3735268_2.fastq\tSRR3735285_2.fastq\tSRR3735302_2.fastq\n",
      "SRR3735269_1.fastq\tSRR3735286_1.fastq\tSRR3735303_1.fastq\n",
      "SRR3735269_2.fastq\tSRR3735286_2.fastq\tSRR3735303_2.fastq\n",
      "SRR3735270_1.fastq\tSRR3735287_1.fastq\tSRR3735304_1.fastq\n",
      "SRR3735270_2.fastq\tSRR3735287_2.fastq\tSRR3735304_2.fastq\n",
      "SRR3735271_1.fastq\tSRR3735288_1.fastq\tSRR3735305_1.fastq\n",
      "SRR3735271_2.fastq\tSRR3735288_2.fastq\tSRR3735305_2.fastq\n",
      "SRR3735272_1.fastq\tSRR3735289_1.fastq\n",
      "SRR3735272_2.fastq\tSRR3735289_2.fastq\n"
     ]
    }
   ],
   "source": [
    "ls "
   ]
  },
  {
   "cell_type": "markdown",
   "metadata": {},
   "source": [
    "Next, zip the files"
   ]
  },
  {
   "cell_type": "code",
   "execution_count": 12,
   "metadata": {},
   "outputs": [],
   "source": [
    "gzip *.fastq"
   ]
  },
  {
   "cell_type": "code",
   "execution_count": 13,
   "metadata": {},
   "outputs": [
    {
     "name": "stdout",
     "output_type": "stream",
     "text": [
      "SRR3735256_1.fastq.gz\tSRR3735273_1.fastq.gz\tSRR3735290_1.fastq.gz\n",
      "SRR3735256_2.fastq.gz\tSRR3735273_2.fastq.gz\tSRR3735290_2.fastq.gz\n",
      "SRR3735257_1.fastq.gz\tSRR3735274_1.fastq.gz\tSRR3735292_1.fastq.gz\n",
      "SRR3735257_2.fastq.gz\tSRR3735274_2.fastq.gz\tSRR3735292_2.fastq.gz\n",
      "SRR3735258_1.fastq.gz\tSRR3735275_1.fastq.gz\tSRR3735293_1.fastq.gz\n",
      "SRR3735258_2.fastq.gz\tSRR3735275_2.fastq.gz\tSRR3735293_2.fastq.gz\n",
      "SRR3735259_1.fastq.gz\tSRR3735276_1.fastq.gz\tSRR3735294_1.fastq.gz\n",
      "SRR3735259_2.fastq.gz\tSRR3735276_2.fastq.gz\tSRR3735294_2.fastq.gz\n",
      "SRR3735260_1.fastq.gz\tSRR3735277_1.fastq.gz\tSRR3735295_1.fastq.gz\n",
      "SRR3735260_2.fastq.gz\tSRR3735277_2.fastq.gz\tSRR3735295_2.fastq.gz\n",
      "SRR3735261_1.fastq.gz\tSRR3735278_1.fastq.gz\tSRR3735296_1.fastq.gz\n",
      "SRR3735261_2.fastq.gz\tSRR3735278_2.fastq.gz\tSRR3735296_2.fastq.gz\n",
      "SRR3735262_1.fastq.gz\tSRR3735279_1.fastq.gz\tSRR3735297_1.fastq.gz\n",
      "SRR3735262_2.fastq.gz\tSRR3735279_2.fastq.gz\tSRR3735297_2.fastq.gz\n",
      "SRR3735263_1.fastq.gz\tSRR3735280_1.fastq.gz\tSRR3735298_1.fastq.gz\n",
      "SRR3735263_2.fastq.gz\tSRR3735280_2.fastq.gz\tSRR3735298_2.fastq.gz\n",
      "SRR3735264_1.fastq.gz\tSRR3735281_1.fastq.gz\tSRR3735299_1.fastq.gz\n",
      "SRR3735264_2.fastq.gz\tSRR3735281_2.fastq.gz\tSRR3735299_2.fastq.gz\n",
      "SRR3735265_1.fastq.gz\tSRR3735283_1.fastq.gz\tSRR3735300_1.fastq.gz\n",
      "SRR3735265_2.fastq.gz\tSRR3735283_2.fastq.gz\tSRR3735300_2.fastq.gz\n",
      "SRR3735266_1.fastq.gz\tSRR3735284_1.fastq.gz\tSRR3735301_1.fastq.gz\n",
      "SRR3735266_2.fastq.gz\tSRR3735284_2.fastq.gz\tSRR3735301_2.fastq.gz\n",
      "SRR3735268_1.fastq.gz\tSRR3735285_1.fastq.gz\tSRR3735302_1.fastq.gz\n",
      "SRR3735268_2.fastq.gz\tSRR3735285_2.fastq.gz\tSRR3735302_2.fastq.gz\n",
      "SRR3735269_1.fastq.gz\tSRR3735286_1.fastq.gz\tSRR3735303_1.fastq.gz\n",
      "SRR3735269_2.fastq.gz\tSRR3735286_2.fastq.gz\tSRR3735303_2.fastq.gz\n",
      "SRR3735270_1.fastq.gz\tSRR3735287_1.fastq.gz\tSRR3735304_1.fastq.gz\n",
      "SRR3735270_2.fastq.gz\tSRR3735287_2.fastq.gz\tSRR3735304_2.fastq.gz\n",
      "SRR3735271_1.fastq.gz\tSRR3735288_1.fastq.gz\tSRR3735305_1.fastq.gz\n",
      "SRR3735271_2.fastq.gz\tSRR3735288_2.fastq.gz\tSRR3735305_2.fastq.gz\n",
      "SRR3735272_1.fastq.gz\tSRR3735289_1.fastq.gz\n",
      "SRR3735272_2.fastq.gz\tSRR3735289_2.fastq.gz\n"
     ]
    }
   ],
   "source": [
    "ls"
   ]
  },
  {
   "cell_type": "code",
   "execution_count": 14,
   "metadata": {},
   "outputs": [],
   "source": [
    "cd .."
   ]
  },
  {
   "cell_type": "markdown",
   "metadata": {},
   "source": [
    "Get the BioProject Metadata"
   ]
  },
  {
   "cell_type": "code",
   "execution_count": 15,
   "metadata": {},
   "outputs": [
    {
     "name": "stdout",
     "output_type": "stream",
     "text": [
      "raw_data\n"
     ]
    }
   ],
   "source": [
    "ls"
   ]
  },
  {
   "cell_type": "code",
   "execution_count": 16,
   "metadata": {},
   "outputs": [],
   "source": [
    "esearch -db bioproject -query \"PRJNA326482\" | elink -target biosample | efetch -format docsum | xtract -pattern DocumentSummary -block Attribute -element Attribute > PRJNA326482_biosample_metadata.txt"
   ]
  },
  {
   "cell_type": "markdown",
   "metadata": {},
   "source": [
    "That's it! Next upload these files into the Cyverse Data Store.\n"
   ]
  },
  {
   "cell_type": "code",
   "execution_count": null,
   "metadata": {},
   "outputs": [],
   "source": []
  }
 ],
 "metadata": {
  "kernelspec": {
   "display_name": "Bash",
   "language": "bash",
   "name": "bash"
  },
  "language_info": {
   "codemirror_mode": "shell",
   "file_extension": ".sh",
   "mimetype": "text/x-sh",
   "name": "bash"
  }
 },
 "nbformat": 4,
 "nbformat_minor": 4
}
